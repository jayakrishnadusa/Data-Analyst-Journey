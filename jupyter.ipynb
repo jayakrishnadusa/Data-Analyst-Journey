{
 "cells": [
  {
   "cell_type": "code",
   "execution_count": null,
   "id": "11212f22-ddc8-4139-823e-d046cd217da9",
   "metadata": {},
   "outputs": [],
   "source": [
    "import pandas as pd"
   ]
  },
  {
   "cell_type": "code",
   "execution_count": null,
   "id": "4c6ed81b-a121-4d64-9d24-25a599cd584d",
   "metadata": {},
   "outputs": [],
   "source": [
    "import seaborn as sns"
   ]
  },
  {
   "cell_type": "code",
   "execution_count": null,
   "id": "8409fb1b-2105-4026-9200-6e59a009e509",
   "metadata": {},
   "outputs": [],
   "source": [
    "df=pd.read_csv('dataset.csv')"
   ]
  },
  {
   "cell_type": "code",
   "execution_count": null,
   "id": "c5078f99-a6d2-46ea-9e95-4a357e6b77a5",
   "metadata": {},
   "outputs": [],
   "source": [
    "df.head(10)"
   ]
  },
  {
   "cell_type": "code",
   "execution_count": null,
   "id": "4dc949d1-9e16-41cb-bea7-2f9b9dafac57",
   "metadata": {},
   "outputs": [],
   "source": [
    "df.info()"
   ]
  },
  {
   "cell_type": "code",
   "execution_count": null,
   "id": "e7f46afa-d530-48ab-82f6-736563f6b313",
   "metadata": {},
   "outputs": [],
   "source": [
    "df.describe()"
   ]
  },
  {
   "cell_type": "code",
   "execution_count": null,
   "id": "1597438f-a6b0-4641-af31-f04384e47dd1",
   "metadata": {},
   "outputs": [],
   "source": [
    "df.dtypes"
   ]
  },
  {
   "cell_type": "code",
   "execution_count": null,
   "id": "86ad9057-8acf-4e6f-bf3c-8efff3388d09",
   "metadata": {},
   "outputs": [],
   "source": [
    "#Only races in USA in 2020 with 50k and 50 mi\n",
    "#only 50 mi now\n",
    "df[df['Event distance/length']=='50mi']"
   ]
  },
  {
   "cell_type": "code",
   "execution_count": null,
   "id": "f3722268-6691-4013-ab9f-8ef7a827ee4f",
   "metadata": {},
   "outputs": [],
   "source": [
    "#50k and 50mi\n",
    "df[df['Event distance/length'].isin(['50km','50mi'])]"
   ]
  },
  {
   "cell_type": "code",
   "execution_count": null,
   "id": "ea2d2adf-b238-4a70-bf23-fcd087229930",
   "metadata": {},
   "outputs": [],
   "source": [
    "#50k and 50mi in 2020\n",
    "df[(df['Event distance/length'].isin(['50km','50mi']))& (df['Year of event']==2020)]"
   ]
  },
  {
   "cell_type": "code",
   "execution_count": null,
   "id": "86ed6981-77a7-4c94-b7ef-dcf1977977fc",
   "metadata": {
    "scrolled": true
   },
   "outputs": [],
   "source": [
    "#in the USA events\n",
    "df[df['Event name']=='Everglades 50 Mile Ultra Run (USA)']"
   ]
  },
  {
   "cell_type": "code",
   "execution_count": null,
   "id": "32b76285-5447-44b0-a689-51c2a64662d9",
   "metadata": {},
   "outputs": [],
   "source": [
    "#splitting USA name\n",
    "df[df['Event name'].str.split('(').str.get(1).str.split(')').str.get(0)=='USA']"
   ]
  },
  {
   "cell_type": "code",
   "execution_count": null,
   "id": "a01652a6-c588-4825-9803-b225f2ca4dda",
   "metadata": {},
   "outputs": [],
   "source": [
    "#Add those USA events into a dataframe\n",
    "df1=df[df['Event name'].str.split('(').str.get(1).str.split(')').str.get(0)=='USA']"
   ]
  },
  {
   "cell_type": "code",
   "execution_count": null,
   "id": "bfd82657-38fd-44db-a9fa-7cf823f49428",
   "metadata": {},
   "outputs": [],
   "source": [
    "df1.head(10)"
   ]
  },
  {
   "cell_type": "code",
   "execution_count": null,
   "id": "d8b13b8f-1c60-48dd-9269-ec4c408cfcb7",
   "metadata": {},
   "outputs": [],
   "source": [
    "#combining all the filters feom above togetherand name it as df2\n",
    "df2=df[(df['Event distance/length'].isin(['50km','50mi']))& (df['Year of event']==2020)& (df['Event name'].str.split('(').str.get(1).str.split(')').str.get(0)=='USA')]"
   ]
  },
  {
   "cell_type": "code",
   "execution_count": null,
   "id": "a6cc904b-ba7e-4411-a4f5-2f4118fd3859",
   "metadata": {},
   "outputs": [],
   "source": [
    "df2.head(10)"
   ]
  },
  {
   "cell_type": "code",
   "execution_count": null,
   "id": "9f2473d9-827f-4003-862f-df42898f837f",
   "metadata": {},
   "outputs": [],
   "source": [
    "df2.shape"
   ]
  },
  {
   "cell_type": "code",
   "execution_count": null,
   "id": "a1de0e50-849b-4c3d-80e2-d250401903df",
   "metadata": {},
   "outputs": [],
   "source": [
    "#Removing USA name from all the events and overriding the data fram 2\n",
    "df2['Event name']=df2['Event name'].str.split('(').str.get(0)"
   ]
  },
  {
   "cell_type": "code",
   "execution_count": null,
   "id": "65a29c2a-8d25-43af-9e73-aea1004cf500",
   "metadata": {},
   "outputs": [],
   "source": [
    "df2.head(10)"
   ]
  },
  {
   "cell_type": "code",
   "execution_count": null,
   "id": "0203a5a1-897d-437b-8d4e-65dd598f1f89",
   "metadata": {},
   "outputs": [],
   "source": [
    "#Clening up the athlete age\n",
    "#2020 is the year inwhich the race took place\n",
    "df2['Athlete age']=2020-df2['Athlete year of birth']"
   ]
  },
  {
   "cell_type": "code",
   "execution_count": null,
   "id": "26dadda6-4064-4f76-8bc5-d39738cf3cd1",
   "metadata": {},
   "outputs": [],
   "source": [
    "#To elimijnate h from athlete performance \n",
    "df2['Athlete performance'].str.split(' ').str.get(0)"
   ]
  },
  {
   "cell_type": "code",
   "execution_count": null,
   "id": "5c515aac-afa3-42cb-8463-07e84c6851b0",
   "metadata": {},
   "outputs": [],
   "source": [
    "#Dropping columns now\n",
    "#Axis=1 specifies pandas to drop columns. If Axis=0 then pandas drops rows specified in the drop function\n",
    "df2=df2.drop(['Athlete club','Athlete country','Athlete year of birth','Athlete age category'],axis=1)"
   ]
  },
  {
   "cell_type": "code",
   "execution_count": null,
   "id": "8c64e14b-0641-4fb5-99ca-6b62a2cc17c4",
   "metadata": {},
   "outputs": [],
   "source": [
    "df2.head(10)"
   ]
  },
  {
   "cell_type": "code",
   "execution_count": null,
   "id": "186fb893-8e2f-4202-ad72-56252966f9f3",
   "metadata": {},
   "outputs": [],
   "source": [
    "#cleaning up null values\n",
    "#The below lines say exactly where the null values are\n",
    "df2.isna().sum()"
   ]
  },
  {
   "cell_type": "code",
   "execution_count": null,
   "id": "4e950107-3315-40b9-98aa-682e95b03da3",
   "metadata": {},
   "outputs": [],
   "source": [
    "#Idenitfying all the Athlete age rows with just the null values\n",
    "df2[df2['Athlete age'].isna()==1]\n",
    "#Ran he query later after dropping the column"
   ]
  },
  {
   "cell_type": "code",
   "execution_count": null,
   "id": "58d699e9-ccd9-4e29-9a1d-5674fcbd9c87",
   "metadata": {},
   "outputs": [],
   "source": [
    "#Dropping all null values \n",
    "df2=df2.dropna()"
   ]
  },
  {
   "cell_type": "code",
   "execution_count": null,
   "id": "4f81cb89-1efe-406d-a293-53490f173ce7",
   "metadata": {},
   "outputs": [],
   "source": [
    "df2.shape"
   ]
  },
  {
   "cell_type": "code",
   "execution_count": null,
   "id": "96748f49-1927-46aa-916a-3a54dd2df933",
   "metadata": {},
   "outputs": [],
   "source": [
    "#Checking for any duplicates\n",
    "df2[df2.duplicated()==True]"
   ]
  },
  {
   "cell_type": "code",
   "execution_count": null,
   "id": "04a1d8f5-709c-44f0-b3d4-0ad63e82951f",
   "metadata": {},
   "outputs": [],
   "source": [
    "#Resetting the values\n",
    "df2.reset_index()\n",
    "#If I dont run the drop command above I can use it here as below command ie\n",
    "# df2.reset_index(drop=True)"
   ]
  },
  {
   "cell_type": "code",
   "execution_count": null,
   "id": "4703c351-66d1-4056-962e-346697ffb661",
   "metadata": {},
   "outputs": [],
   "source": [
    "#Changing the types\n",
    "df2.dtypes"
   ]
  },
  {
   "cell_type": "code",
   "execution_count": null,
   "id": "e95abf27-7df8-4eca-8d71-535bedb6ee22",
   "metadata": {},
   "outputs": [],
   "source": [
    "#Converting avergae age to int \n",
    "df2['Athlete age']=df2['Athlete age'].astype(int)"
   ]
  },
  {
   "cell_type": "code",
   "execution_count": null,
   "id": "c66f92b1-5b88-44a1-ab2f-07ae6be5d749",
   "metadata": {},
   "outputs": [],
   "source": [
    "df2.dtypes"
   ]
  },
  {
   "cell_type": "code",
   "execution_count": null,
   "id": "a5289186-1a7d-49e3-9bd3-77de347c6197",
   "metadata": {},
   "outputs": [],
   "source": [
    "#Converting average speed to float\n",
    "df2['Athlete average speed']=df2['Athlete average speed'].astype(float)"
   ]
  },
  {
   "cell_type": "code",
   "execution_count": null,
   "id": "5547cfcc-454d-40c8-ae3b-c1fe2b09c1d4",
   "metadata": {
    "scrolled": true
   },
   "outputs": [],
   "source": [
    "df2.dtypes"
   ]
  },
  {
   "cell_type": "code",
   "execution_count": null,
   "id": "72304daa-8ba3-45a7-939d-91b653d48866",
   "metadata": {},
   "outputs": [],
   "source": [
    "#Renaming the column names for ease\n",
    "df2=df2.rename(columns={\n",
    "    'Year of event':'year',\n",
    "'Event dates':  'race_dates',\n",
    "'Event name':'race_name'   ,\n",
    "'Event distance/length':'race_length'   ,\n",
    "'Event number of finishers':'race_number_of_finishers',\n",
    "'Athlete performance':'athlete_performance',     \n",
    "'Athlete gender':'athlete_gender',          \n",
    "'Athlete average speed':'athlete_average_speed',\n",
    "'Athlete ID':'athlete_id'          ,\n",
    "    'Athlete age':'athlete_age'\n",
    "    \n",
    "    })"
   ]
  },
  {
   "cell_type": "code",
   "execution_count": null,
   "id": "8f40b279-f684-4b38-8aa7-7705e1cbf473",
   "metadata": {},
   "outputs": [],
   "source": []
  },
  {
   "cell_type": "code",
   "execution_count": null,
   "id": "de3ff219-4232-42e8-bd56-ba0ad8c5c444",
   "metadata": {},
   "outputs": [],
   "source": [
    "#We can reorder the columns\n",
    "df3=df2[['race_dates','race_name','race_length','race_number_of_finishers','athlete_id','athlete_gender','athlete_age','athlete_performance','athlete_average_speed','year']]"
   ]
  },
  {
   "cell_type": "code",
   "execution_count": null,
   "id": "1e6ef1b8-7b23-421b-82c9-9fce57337635",
   "metadata": {},
   "outputs": [],
   "source": [
    "df3.head()"
   ]
  },
  {
   "cell_type": "code",
   "execution_count": null,
   "id": "4228af11-2596-4c0a-a103-0a8da5fb120a",
   "metadata": {},
   "outputs": [],
   "source": [
    "#finding 2 races rn in 2020\n",
    "df3[df3['race_name']=='Everglades 50 Mile Ultra Run ']"
   ]
  },
  {
   "cell_type": "code",
   "execution_count": null,
   "id": "03561c32-d987-4027-be53-207ed17d95da",
   "metadata": {},
   "outputs": [],
   "source": [
    "#Identifying an athlete\n",
    "df3[df3['athlete_id']==222509]"
   ]
  },
  {
   "cell_type": "code",
   "execution_count": null,
   "id": "f941007d-2e01-4a21-abe1-2ad30e94f295",
   "metadata": {},
   "outputs": [],
   "source": [
    "#histogram plots\n",
    "sns.histplot(df3['race_length'])"
   ]
  },
  {
   "cell_type": "code",
   "execution_count": null,
   "id": "27b71174-798b-4800-8608-1a9c163656ee",
   "metadata": {},
   "outputs": [],
   "source": [
    "#Based on males and femles\n",
    "#sns.histplot(data=df, x='column_name', palette='viridis', bins=50)\n",
    "sns.histplot(df3,x='race_length',hue='athlete_gender')"
   ]
  },
  {
   "cell_type": "code",
   "execution_count": null,
   "id": "737ba1c6-796c-4a8d-9184-7592f219d0e4",
   "metadata": {},
   "outputs": [],
   "source": [
    "#Lets check displot for 50 miles based on averagespeed\n",
    "sns.displot(df3[df3['race_length']=='50mi']['athlete_average_speed'])"
   ]
  },
  {
   "cell_type": "code",
   "execution_count": null,
   "id": "c0eb4897-360e-4b31-a3c6-f92788da3ccb",
   "metadata": {},
   "outputs": [],
   "source": [
    "sns.violinplot(df3,x='race_length',y='athlete_average_speed',hue='athlete_gender',split=True)"
   ]
  },
  {
   "cell_type": "code",
   "execution_count": null,
   "id": "e8ee4160-bfa2-4173-a1b6-8000ea4e93ee",
   "metadata": {},
   "outputs": [],
   "source": [
    "#lmplot\n",
    "sns.lmplot(df3,x='athlete_age',y='athlete_average_speed',hue='athlete_gender')"
   ]
  },
  {
   "cell_type": "code",
   "execution_count": null,
   "id": "e961005b-e7b3-46d0-b326-8f9bda09a766",
   "metadata": {},
   "outputs": [],
   "source": [
    "#questions I want to find out from data"
   ]
  },
  {
   "cell_type": "code",
   "execution_count": null,
   "id": "2eb878b9-11f9-4dc6-a063-c9c5639eb2ae",
   "metadata": {},
   "outputs": [],
   "source": [
    "#difference in speed for 50km,50mi male to female\n",
    "df3.groupby(['race_length','athlete_gender'])['athlete_average_speed'].mean()"
   ]
  },
  {
   "cell_type": "code",
   "execution_count": null,
   "id": "10271123-e322-4996-b05e-7e5f1dc90439",
   "metadata": {},
   "outputs": [],
   "source": [
    "#What age groups are the best in 50km race(20+ races min)(show 15)\n",
    "df3.query('race_length==\"50mi\"').groupby('athlete_age')['athlete_average_speed'].agg(['mean','count']).sort_values('mean',ascending=False).query('count>19').head(15)"
   ]
  },
  {
   "cell_type": "code",
   "execution_count": null,
   "id": "dc78d937-dba5-42a4-bb5d-f422b9badd6b",
   "metadata": {},
   "outputs": [],
   "source": [
    "#What age groups are the worst in 50km race(20+ races min)(show 20)\n",
    "df3.query('race_length==\"50mi\"').groupby('athlete_age')['athlete_average_speed'].agg(['mean','count']).sort_values('mean',ascending=True).query('count>10').head(20)"
   ]
  },
  {
   "cell_type": "code",
   "execution_count": null,
   "id": "a270144c-4182-4f42-a74a-f8bf06a09869",
   "metadata": {},
   "outputs": [],
   "source": [
    "#Slower in the summer over winter?\n",
    "\n",
    "#spring 3-5\n",
    "#summer 6-8\n",
    "#fall 9-11\n",
    "#winter 12-2\n",
    "#split between two decimals"
   ]
  },
  {
   "cell_type": "code",
   "execution_count": null,
   "id": "cac9eed8-c744-4a8a-9c59-28661d296b5a",
   "metadata": {},
   "outputs": [],
   "source": [
    "df3['race_month']=df3['race_dates'].str.split('.').str.get(1).astype(int)"
   ]
  },
  {
   "cell_type": "code",
   "execution_count": null,
   "id": "b73ce56b-ee7b-4054-b003-99f3fc2fceb7",
   "metadata": {},
   "outputs": [],
   "source": [
    "#Lamba is a parameter used here under apply function to add a new column"
   ]
  },
  {
   "cell_type": "code",
   "execution_count": null,
   "id": "6b5150b8-7268-4de6-b290-ba60e34098f3",
   "metadata": {},
   "outputs": [],
   "source": [
    "df3['race_season']=df3['race_month'].apply(lambda x: 'Winter' if x>11 else 'Fall' if x>8 else 'Summer' if x>5 else 'Spring' if x>2 else 'Winter')"
   ]
  },
  {
   "cell_type": "code",
   "execution_count": null,
   "id": "46c02b7b-b3b6-4b12-90c9-8f107ae157cb",
   "metadata": {},
   "outputs": [],
   "source": [
    "df3.head(25)"
   ]
  },
  {
   "cell_type": "code",
   "execution_count": null,
   "id": "f4d14c57-9993-4730-8986-622c6656012d",
   "metadata": {},
   "outputs": [],
   "source": [
    "df3.groupby('race_season')['athlete_average_speed'].agg(['mean','count']).sort_values('mean',ascending=False)"
   ]
  },
  {
   "cell_type": "code",
   "execution_count": null,
   "id": "3642ce1a-bbcb-4b8e-8289-ff3cb386b3e4",
   "metadata": {},
   "outputs": [],
   "source": [
    "#50 miler only\n",
    "df3.query(\"race_length=='50mi'\").groupby('race_season')['athlete_average_speed'].agg(['mean','count']).sort_values('mean',ascending=False)"
   ]
  }
 ],
 "metadata": {
  "kernelspec": {
   "display_name": "Python [conda env:base] *",
   "language": "python",
   "name": "conda-base-py"
  },
  "language_info": {
   "codemirror_mode": {
    "name": "ipython",
    "version": 3
   },
   "file_extension": ".py",
   "mimetype": "text/x-python",
   "name": "python",
   "nbconvert_exporter": "python",
   "pygments_lexer": "ipython3",
   "version": "3.12.7"
  }
 },
 "nbformat": 4,
 "nbformat_minor": 5
}
